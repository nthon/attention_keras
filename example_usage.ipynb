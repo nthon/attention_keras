{
 "cells": [
  {
   "cell_type": "code",
   "execution_count": 4,
   "id": "be78d1e6",
   "metadata": {},
   "outputs": [],
   "source": [
    "import logging\n",
    "\n",
    "import src.examples.utils.data_helper as data_helper\n",
    "import src.examples.nmt.train as train_nmt\n",
    "import src.examples.nmt_bidirectional.train as train_nmt_bidirectional"
   ]
  },
  {
   "cell_type": "code",
   "execution_count": 8,
   "id": "60b4a5eb",
   "metadata": {},
   "outputs": [
    {
     "name": "stderr",
     "output_type": "stream",
     "text": [
      "INFO:src.examples.nmt.train:Vocabulary size (English): 200\n",
      "INFO:src.examples.nmt.train:Vocabulary size (French): 321\n",
      "DEBUG:src.examples.nmt.train:En text shape: (10000, 20)\n",
      "DEBUG:src.examples.nmt.train:Fr text shape: (10000, 20)\n",
      "DEBUG:src.examples.nmt.model:Defining Inputs\n",
      "DEBUG:src.examples.nmt.model:Defining the sequential models\n",
      "DEBUG:src.examples.nmt.model:Defining the attention layer\n",
      "DEBUG:src.examples.nmt.model:Defining the dense layers\n",
      "DEBUG:src.examples.nmt.model:Defining the full model\n"
     ]
    },
    {
     "name": "stdout",
     "output_type": "stream",
     "text": [
      "Model: \"model_6\"\n",
      "__________________________________________________________________________________________________\n",
      " Layer (type)                   Output Shape         Param #     Connected to                     \n",
      "==================================================================================================\n",
      " encoder_inputs (InputLayer)    [(64, 20, 200)]      0           []                               \n",
      "                                                                                                  \n",
      " decoder_inputs (InputLayer)    [(64, 19, 321)]      0           []                               \n",
      "                                                                                                  \n",
      " encoder_gru (GRU)              [(64, 20, 96),       85824       ['encoder_inputs[0][0]']         \n",
      "                                 (64, 96)]                                                        \n",
      "                                                                                                  \n",
      " decoder_gru (GRU)              [(64, 19, 96),       120672      ['decoder_inputs[0][0]',         \n",
      "                                 (64, 96)]                        'encoder_gru[0][1]']            \n",
      "                                                                                                  \n",
      " attention_layer (AttentionLaye  ((64, 19, 96),      18528       ['encoder_gru[0][0]',            \n",
      " r)                              (64, 19, 20))                    'decoder_gru[0][0]']            \n",
      "                                                                                                  \n",
      " concat_layer (Concatenate)     (64, 19, 192)        0           ['decoder_gru[0][0]',            \n",
      "                                                                  'attention_layer[0][0]']        \n",
      "                                                                                                  \n",
      " time_distributed_layer (TimeDi  (64, 19, 321)       61953       ['concat_layer[0][0]']           \n",
      " stributed)                                                                                       \n",
      "                                                                                                  \n",
      "==================================================================================================\n",
      "Total params: 286,977\n",
      "Trainable params: 286,977\n",
      "Non-trainable params: 0\n",
      "__________________________________________________________________________________________________\n"
     ]
    },
    {
     "name": "stderr",
     "output_type": "stream",
     "text": [
      "DEBUG:src.examples.nmt.model:Defining the inference model\n",
      "INFO:src.examples.utils.model_helper:Loss in epoch 1: 3.203318638679309\n",
      "INFO:src.examples.utils.model_helper:Loss in epoch 2: 1.8689448183927782\n",
      "INFO:src.examples.utils.model_helper:Loss in epoch 3: 1.2083168213184063\n",
      "INFO:src.examples.utils.model_helper:Loss in epoch 4: 0.9575312771858313\n",
      "INFO:src.examples.utils.model_helper:Loss in epoch 5: 0.8061935813763202\n",
      "INFO:src.examples.utils.model_helper:Loss in epoch 6: 0.5600156023716315\n",
      "INFO:src.examples.utils.model_helper:Loss in epoch 7: 0.2967667242464347\n",
      "INFO:src.examples.utils.model_helper:Loss in epoch 8: 0.18968731375076833\n",
      "INFO:src.examples.utils.model_helper:Loss in epoch 9: 0.14472540553945762\n",
      "INFO:src.examples.utils.model_helper:Loss in epoch 10: 0.12101070570926635\n",
      "WARNING:absl:Found untraced functions such as gru_cell_4_layer_call_fn, gru_cell_4_layer_call_and_return_conditional_losses, gru_cell_5_layer_call_fn, gru_cell_5_layer_call_and_return_conditional_losses while saving (showing 4 of 4). These functions will not be directly callable after loading.\n"
     ]
    },
    {
     "name": "stdout",
     "output_type": "stream",
     "text": [
      "INFO:tensorflow:Assets written to: models\\assets\n"
     ]
    },
    {
     "name": "stderr",
     "output_type": "stream",
     "text": [
      "INFO:tensorflow:Assets written to: models\\assets\n"
     ]
    }
   ],
   "source": [
    "data_dir = \"data\"\n",
    "model_save_dir = \"models\"\n",
    "train_size = 10000\n",
    "\n",
    "logger = logging.getLogger()\n",
    "logger.setLevel(logging.DEBUG)\n",
    "\n",
    "tr_x, tr_y, ts_x, ts_y = data_helper.get_data(data_dir, train_size, random_seed=100)\n",
    "full_model, infer_enc_model, infer_dec_model, en_tokenizer, fr_tokenizer = train_nmt.run_training(tr_x, tr_y, model_save_dir=model_save_dir)"
   ]
  },
  {
   "cell_type": "code",
   "execution_count": 11,
   "id": "9225dbef",
   "metadata": {},
   "outputs": [
    {
     "name": "stderr",
     "output_type": "stream",
     "text": [
      "DEBUG:src.examples.nmt.train:English: his most loved animal is this rabbit .\n",
      "\n"
     ]
    },
    {
     "name": "stdout",
     "output_type": "stream",
     "text": [
      "1/1 [==============================] - 0s 300ms/step\n",
      "1/1 [==============================] - 1s 542ms/step\n",
      "1/1 [==============================] - 0s 17ms/step\n",
      "1/1 [==============================] - 0s 20ms/step\n",
      "1/1 [==============================] - 0s 20ms/step\n",
      "1/1 [==============================] - 0s 25ms/step\n",
      "1/1 [==============================] - 0s 16ms/step\n",
      "1/1 [==============================] - 0s 25ms/step\n",
      "1/1 [==============================] - 0s 19ms/step\n",
      "1/1 [==============================] - 0s 26ms/step\n",
      "1/1 [==============================] - 0s 24ms/step\n",
      "1/1 [==============================] - 0s 21ms/step\n",
      "1/1 [==============================] - 0s 20ms/step\n",
      "1/1 [==============================] - 0s 18ms/step\n",
      "1/1 [==============================] - 0s 20ms/step\n",
      "1/1 [==============================] - 0s 17ms/step\n"
     ]
    },
    {
     "name": "stderr",
     "output_type": "stream",
     "text": [
      "DEBUG:src.examples.nmt.train:\tFrench: elle aime le plus aimé est la banane et elle est le plus eos \n"
     ]
    }
   ],
   "source": [
    "input_sentence = ts_x[0]\n",
    "translated_sentence, attn_weights = train_nmt.translate_single(\n",
    "    input_sentence, infer_enc_model, infer_dec_model, en_tokenizer, fr_tokenizer, 20, return_attention=True\n",
    ")"
   ]
  },
  {
   "cell_type": "code",
   "execution_count": null,
   "id": "a87fea61",
   "metadata": {},
   "outputs": [],
   "source": []
  }
 ],
 "metadata": {
  "kernelspec": {
   "display_name": "Python 3 (ipykernel)",
   "language": "python",
   "name": "python3"
  },
  "language_info": {
   "codemirror_mode": {
    "name": "ipython",
    "version": 3
   },
   "file_extension": ".py",
   "mimetype": "text/x-python",
   "name": "python",
   "nbconvert_exporter": "python",
   "pygments_lexer": "ipython3",
   "version": "3.8.13"
  }
 },
 "nbformat": 4,
 "nbformat_minor": 5
}
